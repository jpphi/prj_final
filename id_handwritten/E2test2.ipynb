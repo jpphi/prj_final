{
 "cells": [
  {
   "cell_type": "code",
   "execution_count": 4,
   "id": "3fea2d6c",
   "metadata": {},
   "outputs": [],
   "source": [
    "import numpy as np\n",
    "\n",
    "import random\n",
    "\n",
    "from sklearn.datasets import load_digits\n",
    "from sklearn.model_selection import train_test_split, GridSearchCV\n",
    "from sklearn.linear_model import LogisticRegression\n",
    "from sklearn.metrics import classification_report\n",
    "from sklearn.pipeline import make_pipeline, Pipeline\n",
    "from sklearn.preprocessing import StandardScaler, MinMaxScaler, RobustScaler\n",
    "from sklearn.model_selection import learning_curve\n",
    "\n",
    "import h5py\n",
    "\n",
    "import time\n",
    "\n",
    "import matplotlib.pyplot as plt "
   ]
  },
  {
   "cell_type": "code",
   "execution_count": 5,
   "id": "ecb9cb17",
   "metadata": {},
   "outputs": [
    {
     "name": "stdout",
     "output_type": "stream",
     "text": [
      "Entrainement: X Shape: (60000, 28, 28), Y shape: (60000,)\n",
      "Test: X Shape: (10000, 28, 28), Y shape: (10000,)\n",
      "Etiquette: [0 1 2 3 4 5 6 7 8 9]\n"
     ]
    }
   ],
   "source": [
    "# Importation du jeux d'entraînement\n",
    "f = h5py.File(\"train.hdf5\", 'r')\n",
    "train_x, train_y = f['image'][...], f['label'][...]\n",
    "f.close()\n",
    "\n",
    "# Importation du jeux de test\n",
    "f = h5py.File(\"test.hdf5\", 'r')\n",
    "test_x, test_y = f['image'][...], f['label'][...]\n",
    "f.close()\n",
    "\n",
    "etiquette= np.unique(test_y)\n",
    "print(f\"Entrainement: X Shape: {train_x.shape}, Y shape: {train_y.shape}\\n\"+\\\n",
    "      f\"Test: X Shape: {test_x.shape}, Y shape: {test_y.shape}\\n\"+\\\n",
    "      f\"Etiquette: {etiquette}\")"
   ]
  },
  {
   "cell_type": "code",
   "execution_count": 3,
   "id": "ae11afa9",
   "metadata": {},
   "outputs": [
    {
     "name": "stdout",
     "output_type": "stream",
     "text": [
      "Entrainement: X Shape: (4800, 784), Y shape: (4800,)\n",
      "Test: X Shape: (1200, 784), Y shape: (1200,)\n",
      "Etiquette: [0 1 2 3 4 5 6 7 8 9]\n"
     ]
    }
   ],
   "source": [
    "# On récupère les données. On ne prendra qu'une partie des données situé dans le\n",
    "#  jeux de train. On en profite pour \"applatir\" les images\n",
    "data= train_x.reshape(train_x.shape[0], train_x.shape[1]*train_x.shape[2])\n",
    "\n",
    "# On réduit le jeux de données original\n",
    "data_red, _, Y_red, _=  train_test_split(data, train_y, train_size=0.1, random_state= 65)\n",
    "\n",
    "# On split le jeux de données\n",
    "X_train_red, X_test_red,  Y_train_red, Y_test_red = train_test_split(data_red, Y_red, train_size=0.8, \n",
    "                                                               random_state= 65)\n",
    "\n",
    "print(f\"Entrainement: X Shape: {X_train_red.shape}, Y shape: {Y_train_red.shape}\\n\"+\\\n",
    "      f\"Test: X Shape: {X_test_red.shape}, Y shape: {Y_test_red.shape}\\n\"+\\\n",
    "      f\"Etiquette: {etiquette}\")"
   ]
  },
  {
   "cell_type": "code",
   "execution_count": 4,
   "id": "d6a5c203",
   "metadata": {
    "scrolled": true
   },
   "outputs": [
    {
     "data": {
      "text/plain": [
       "GridSearchCV(cv=5,\n",
       "             estimator=Pipeline(steps=[('pipeline',\n",
       "                                        Pipeline(steps=[('scaler',\n",
       "                                                         StandardScaler()),\n",
       "                                                        ('algo',\n",
       "                                                         LogisticRegression())]))]),\n",
       "             n_jobs=-1,\n",
       "             param_grid={'pipeline__algo__class_weight': ['balanced'],\n",
       "                         'pipeline__algo__max_iter': [2000],\n",
       "                         'pipeline__algo__solver': ['sag', 'newton-cg', 'lbfgs',\n",
       "                                                    'saga'],\n",
       "                         'pipeline__scaler': [StandardScaler(), MinMaxScaler(),\n",
       "                                              RobustScaler()]},\n",
       "             verbose=True)"
      ]
     },
     "execution_count": 4,
     "metadata": {},
     "output_type": "execute_result"
    }
   ],
   "source": [
    "# On réalise un pipe avec 2 actions: un scaler et un algorithme\n",
    "pipe = Pipeline(steps= [('scaler', StandardScaler()), ('algo', LogisticRegression())])\n",
    "\n",
    "# On testera 3 standardisations et pour la régression logistique on testera tout les solvers\n",
    "param_grid = {'pipeline__scaler': [StandardScaler(), MinMaxScaler(), RobustScaler()],\n",
    "              'pipeline__algo__solver': [\"sag\", \"newton-cg\", \"lbfgs\", \"saga\"],\n",
    "              'pipeline__algo__class_weight': [\"balanced\"],\n",
    "              'pipeline__algo__max_iter': [2000]}\n",
    "# instantiate and run as before:\n",
    "\n",
    "model= make_pipeline(pipe)\n",
    "\n",
    "grid = GridSearchCV(model, param_grid, cv=5, verbose= True, n_jobs= -1)\n",
    "\n",
    "grid"
   ]
  },
  {
   "cell_type": "code",
   "execution_count": 5,
   "id": "6cac779e",
   "metadata": {},
   "outputs": [
    {
     "name": "stdout",
     "output_type": "stream",
     "text": [
      "Fitting 5 folds for each of 12 candidates, totalling 60 fits\n"
     ]
    },
    {
     "name": "stderr",
     "output_type": "stream",
     "text": [
      "/home/jpphi/anaconda3/lib/python3.8/site-packages/sklearn/linear_model/_sag.py:352: ConvergenceWarning: The max_iter was reached which means the coef_ did not converge\n",
      "  warnings.warn(\n",
      "/home/jpphi/anaconda3/lib/python3.8/site-packages/sklearn/linear_model/_sag.py:352: ConvergenceWarning: The max_iter was reached which means the coef_ did not converge\n",
      "  warnings.warn(\n",
      "/home/jpphi/anaconda3/lib/python3.8/site-packages/sklearn/linear_model/_logistic.py:814: ConvergenceWarning: lbfgs failed to converge (status=1):\n",
      "STOP: TOTAL NO. of ITERATIONS REACHED LIMIT.\n",
      "\n",
      "Increase the number of iterations (max_iter) or scale the data as shown in:\n",
      "    https://scikit-learn.org/stable/modules/preprocessing.html\n",
      "Please also refer to the documentation for alternative solver options:\n",
      "    https://scikit-learn.org/stable/modules/linear_model.html#logistic-regression\n",
      "  n_iter_i = _check_optimize_result(\n",
      "/home/jpphi/anaconda3/lib/python3.8/site-packages/sklearn/linear_model/_sag.py:352: ConvergenceWarning: The max_iter was reached which means the coef_ did not converge\n",
      "  warnings.warn(\n",
      "/home/jpphi/anaconda3/lib/python3.8/site-packages/sklearn/linear_model/_sag.py:352: ConvergenceWarning: The max_iter was reached which means the coef_ did not converge\n",
      "  warnings.warn(\n",
      "/home/jpphi/anaconda3/lib/python3.8/site-packages/sklearn/linear_model/_sag.py:352: ConvergenceWarning: The max_iter was reached which means the coef_ did not converge\n",
      "  warnings.warn(\n",
      "/home/jpphi/anaconda3/lib/python3.8/site-packages/sklearn/linear_model/_sag.py:352: ConvergenceWarning: The max_iter was reached which means the coef_ did not converge\n",
      "  warnings.warn(\n",
      "/home/jpphi/anaconda3/lib/python3.8/site-packages/sklearn/linear_model/_sag.py:352: ConvergenceWarning: The max_iter was reached which means the coef_ did not converge\n",
      "  warnings.warn(\n",
      "/home/jpphi/anaconda3/lib/python3.8/site-packages/sklearn/linear_model/_sag.py:352: ConvergenceWarning: The max_iter was reached which means the coef_ did not converge\n",
      "  warnings.warn(\n",
      "/home/jpphi/anaconda3/lib/python3.8/site-packages/sklearn/linear_model/_sag.py:352: ConvergenceWarning: The max_iter was reached which means the coef_ did not converge\n",
      "  warnings.warn(\n",
      "/home/jpphi/anaconda3/lib/python3.8/site-packages/sklearn/linear_model/_sag.py:352: ConvergenceWarning: The max_iter was reached which means the coef_ did not converge\n",
      "  warnings.warn(\n",
      "/home/jpphi/anaconda3/lib/python3.8/site-packages/sklearn/linear_model/_logistic.py:814: ConvergenceWarning: lbfgs failed to converge (status=1):\n",
      "STOP: TOTAL NO. of ITERATIONS REACHED LIMIT.\n",
      "\n",
      "Increase the number of iterations (max_iter) or scale the data as shown in:\n",
      "    https://scikit-learn.org/stable/modules/preprocessing.html\n",
      "Please also refer to the documentation for alternative solver options:\n",
      "    https://scikit-learn.org/stable/modules/linear_model.html#logistic-regression\n",
      "  n_iter_i = _check_optimize_result(\n",
      "/home/jpphi/anaconda3/lib/python3.8/site-packages/sklearn/linear_model/_logistic.py:814: ConvergenceWarning: lbfgs failed to converge (status=1):\n",
      "STOP: TOTAL NO. of ITERATIONS REACHED LIMIT.\n",
      "\n",
      "Increase the number of iterations (max_iter) or scale the data as shown in:\n",
      "    https://scikit-learn.org/stable/modules/preprocessing.html\n",
      "Please also refer to the documentation for alternative solver options:\n",
      "    https://scikit-learn.org/stable/modules/linear_model.html#logistic-regression\n",
      "  n_iter_i = _check_optimize_result(\n",
      "/home/jpphi/anaconda3/lib/python3.8/site-packages/sklearn/linear_model/_sag.py:352: ConvergenceWarning: The max_iter was reached which means the coef_ did not converge\n",
      "  warnings.warn(\n",
      "/home/jpphi/anaconda3/lib/python3.8/site-packages/sklearn/linear_model/_sag.py:352: ConvergenceWarning: The max_iter was reached which means the coef_ did not converge\n",
      "  warnings.warn(\n",
      "/home/jpphi/anaconda3/lib/python3.8/site-packages/sklearn/linear_model/_sag.py:352: ConvergenceWarning: The max_iter was reached which means the coef_ did not converge\n",
      "  warnings.warn(\n"
     ]
    },
    {
     "name": "stdout",
     "output_type": "stream",
     "text": [
      "temps d'exécution: 25717.32 s\n"
     ]
    },
    {
     "name": "stderr",
     "output_type": "stream",
     "text": [
      "/home/jpphi/anaconda3/lib/python3.8/site-packages/sklearn/linear_model/_sag.py:352: ConvergenceWarning: The max_iter was reached which means the coef_ did not converge\n",
      "  warnings.warn(\n",
      "/home/jpphi/anaconda3/lib/python3.8/site-packages/sklearn/linear_model/_sag.py:352: ConvergenceWarning: The max_iter was reached which means the coef_ did not converge\n",
      "  warnings.warn(\n",
      "/home/jpphi/anaconda3/lib/python3.8/site-packages/sklearn/linear_model/_sag.py:352: ConvergenceWarning: The max_iter was reached which means the coef_ did not converge\n",
      "  warnings.warn(\n",
      "/home/jpphi/anaconda3/lib/python3.8/site-packages/sklearn/linear_model/_logistic.py:814: ConvergenceWarning: lbfgs failed to converge (status=1):\n",
      "STOP: TOTAL NO. of ITERATIONS REACHED LIMIT.\n",
      "\n",
      "Increase the number of iterations (max_iter) or scale the data as shown in:\n",
      "    https://scikit-learn.org/stable/modules/preprocessing.html\n",
      "Please also refer to the documentation for alternative solver options:\n",
      "    https://scikit-learn.org/stable/modules/linear_model.html#logistic-regression\n",
      "  n_iter_i = _check_optimize_result(\n",
      "/home/jpphi/anaconda3/lib/python3.8/site-packages/sklearn/linear_model/_logistic.py:814: ConvergenceWarning: lbfgs failed to converge (status=1):\n",
      "STOP: TOTAL NO. of ITERATIONS REACHED LIMIT.\n",
      "\n",
      "Increase the number of iterations (max_iter) or scale the data as shown in:\n",
      "    https://scikit-learn.org/stable/modules/preprocessing.html\n",
      "Please also refer to the documentation for alternative solver options:\n",
      "    https://scikit-learn.org/stable/modules/linear_model.html#logistic-regression\n",
      "  n_iter_i = _check_optimize_result(\n",
      "/home/jpphi/anaconda3/lib/python3.8/site-packages/sklearn/linear_model/_sag.py:352: ConvergenceWarning: The max_iter was reached which means the coef_ did not converge\n",
      "  warnings.warn(\n",
      "/home/jpphi/anaconda3/lib/python3.8/site-packages/sklearn/linear_model/_sag.py:352: ConvergenceWarning: The max_iter was reached which means the coef_ did not converge\n",
      "  warnings.warn(\n",
      "/home/jpphi/anaconda3/lib/python3.8/site-packages/sklearn/linear_model/_sag.py:352: ConvergenceWarning: The max_iter was reached which means the coef_ did not converge\n",
      "  warnings.warn(\n"
     ]
    }
   ],
   "source": [
    "deb= time.time()\n",
    "\n",
    "grid.fit(X_train_red, Y_train_red)\n",
    "\n",
    "fin= time.time()\n",
    "print(f\"temps d'exécution: {fin-deb:.2f} s\")"
   ]
  },
  {
   "cell_type": "code",
   "execution_count": 6,
   "id": "8c96fcb0",
   "metadata": {},
   "outputs": [
    {
     "data": {
      "text/plain": [
       "Pipeline(steps=[('pipeline',\n",
       "                 Pipeline(steps=[('scaler', MinMaxScaler()),\n",
       "                                 ('algo',\n",
       "                                  LogisticRegression(class_weight='balanced',\n",
       "                                                     max_iter=2000,\n",
       "                                                     solver='newton-cg'))]))])"
      ]
     },
     "execution_count": 6,
     "metadata": {},
     "output_type": "execute_result"
    }
   ],
   "source": [
    "grid.best_estimator_"
   ]
  },
  {
   "cell_type": "code",
   "execution_count": 9,
   "id": "6f822134",
   "metadata": {},
   "outputs": [
    {
     "name": "stdout",
     "output_type": "stream",
     "text": [
      "Précision obtenu: 88.40 %\n"
     ]
    }
   ],
   "source": [
    "print(f\"Précision obtenu: {100*grid.best_score_:.2f} %\")"
   ]
  },
  {
   "cell_type": "code",
   "execution_count": 10,
   "id": "dfa25f58",
   "metadata": {},
   "outputs": [
    {
     "data": {
      "text/plain": [
       "{'mean_fit_time': array([1827.04314895,  231.22088594, 1876.71221666,   50.39220605,\n",
       "          28.83537464, 6369.41644335,   39.99096208,   34.12389121,\n",
       "         205.87793794, 4317.14377704,  846.24480405, 3789.71036057]),\n",
       " 'std_fit_time': array([ 69.38440553,  19.76828982,  40.31343365,   4.04969178,\n",
       "          1.04618263, 782.92065579,   1.15738383,   1.59141662,\n",
       "          9.02821649, 241.04689359,  29.54919976, 491.74400633]),\n",
       " 'mean_score_time': array([0.03037901, 0.02316012, 0.02717633, 0.02764368, 0.02633514,\n",
       "        0.03002439, 0.03254666, 0.03047953, 0.04181418, 0.03306494,\n",
       "        0.02190456, 0.02446933]),\n",
       " 'std_score_time': array([0.00189925, 0.00016107, 0.00299612, 0.00048742, 0.00187839,\n",
       "        0.00189033, 0.00155231, 0.00413801, 0.01591045, 0.0098092 ,\n",
       "        0.00038109, 0.00527098]),\n",
       " 'param_pipeline__algo__class_weight': masked_array(data=['balanced', 'balanced', 'balanced', 'balanced',\n",
       "                    'balanced', 'balanced', 'balanced', 'balanced',\n",
       "                    'balanced', 'balanced', 'balanced', 'balanced'],\n",
       "              mask=[False, False, False, False, False, False, False, False,\n",
       "                    False, False, False, False],\n",
       "        fill_value='?',\n",
       "             dtype=object),\n",
       " 'param_pipeline__algo__max_iter': masked_array(data=[2000, 2000, 2000, 2000, 2000, 2000, 2000, 2000, 2000,\n",
       "                    2000, 2000, 2000],\n",
       "              mask=[False, False, False, False, False, False, False, False,\n",
       "                    False, False, False, False],\n",
       "        fill_value='?',\n",
       "             dtype=object),\n",
       " 'param_pipeline__algo__solver': masked_array(data=['sag', 'sag', 'sag', 'newton-cg', 'newton-cg',\n",
       "                    'newton-cg', 'lbfgs', 'lbfgs', 'lbfgs', 'saga', 'saga',\n",
       "                    'saga'],\n",
       "              mask=[False, False, False, False, False, False, False, False,\n",
       "                    False, False, False, False],\n",
       "        fill_value='?',\n",
       "             dtype=object),\n",
       " 'param_pipeline__scaler': masked_array(data=[StandardScaler(), MinMaxScaler(), RobustScaler(),\n",
       "                    StandardScaler(), MinMaxScaler(), RobustScaler(),\n",
       "                    StandardScaler(), MinMaxScaler(), RobustScaler(),\n",
       "                    StandardScaler(), MinMaxScaler(), RobustScaler()],\n",
       "              mask=[False, False, False, False, False, False, False, False,\n",
       "                    False, False, False, False],\n",
       "        fill_value='?',\n",
       "             dtype=object),\n",
       " 'params': [{'pipeline__algo__class_weight': 'balanced',\n",
       "   'pipeline__algo__max_iter': 2000,\n",
       "   'pipeline__algo__solver': 'sag',\n",
       "   'pipeline__scaler': StandardScaler()},\n",
       "  {'pipeline__algo__class_weight': 'balanced',\n",
       "   'pipeline__algo__max_iter': 2000,\n",
       "   'pipeline__algo__solver': 'sag',\n",
       "   'pipeline__scaler': MinMaxScaler()},\n",
       "  {'pipeline__algo__class_weight': 'balanced',\n",
       "   'pipeline__algo__max_iter': 2000,\n",
       "   'pipeline__algo__solver': 'sag',\n",
       "   'pipeline__scaler': RobustScaler()},\n",
       "  {'pipeline__algo__class_weight': 'balanced',\n",
       "   'pipeline__algo__max_iter': 2000,\n",
       "   'pipeline__algo__solver': 'newton-cg',\n",
       "   'pipeline__scaler': StandardScaler()},\n",
       "  {'pipeline__algo__class_weight': 'balanced',\n",
       "   'pipeline__algo__max_iter': 2000,\n",
       "   'pipeline__algo__solver': 'newton-cg',\n",
       "   'pipeline__scaler': MinMaxScaler()},\n",
       "  {'pipeline__algo__class_weight': 'balanced',\n",
       "   'pipeline__algo__max_iter': 2000,\n",
       "   'pipeline__algo__solver': 'newton-cg',\n",
       "   'pipeline__scaler': RobustScaler()},\n",
       "  {'pipeline__algo__class_weight': 'balanced',\n",
       "   'pipeline__algo__max_iter': 2000,\n",
       "   'pipeline__algo__solver': 'lbfgs',\n",
       "   'pipeline__scaler': StandardScaler()},\n",
       "  {'pipeline__algo__class_weight': 'balanced',\n",
       "   'pipeline__algo__max_iter': 2000,\n",
       "   'pipeline__algo__solver': 'lbfgs',\n",
       "   'pipeline__scaler': MinMaxScaler()},\n",
       "  {'pipeline__algo__class_weight': 'balanced',\n",
       "   'pipeline__algo__max_iter': 2000,\n",
       "   'pipeline__algo__solver': 'lbfgs',\n",
       "   'pipeline__scaler': RobustScaler()},\n",
       "  {'pipeline__algo__class_weight': 'balanced',\n",
       "   'pipeline__algo__max_iter': 2000,\n",
       "   'pipeline__algo__solver': 'saga',\n",
       "   'pipeline__scaler': StandardScaler()},\n",
       "  {'pipeline__algo__class_weight': 'balanced',\n",
       "   'pipeline__algo__max_iter': 2000,\n",
       "   'pipeline__algo__solver': 'saga',\n",
       "   'pipeline__scaler': MinMaxScaler()},\n",
       "  {'pipeline__algo__class_weight': 'balanced',\n",
       "   'pipeline__algo__max_iter': 2000,\n",
       "   'pipeline__algo__solver': 'saga',\n",
       "   'pipeline__scaler': RobustScaler()}],\n",
       " 'split0_test_score': array([0.88020833, 0.88958333, 0.721875  , 0.875     , 0.88958333,\n",
       "        0.765625  , 0.875     , 0.88958333, 0.765625  , 0.88020833,\n",
       "        0.89166667, 0.70520833]),\n",
       " 'split1_test_score': array([0.83541667, 0.86041667, 0.73854167, 0.846875  , 0.86041667,\n",
       "        0.78229167, 0.846875  , 0.86041667, 0.78958333, 0.84166667,\n",
       "        0.86041667, 0.71145833]),\n",
       " 'split2_test_score': array([0.890625  , 0.9       , 0.74479167, 0.89270833, 0.90104167,\n",
       "        0.790625  , 0.89270833, 0.90104167, 0.784375  , 0.89479167,\n",
       "        0.9       , 0.72604167]),\n",
       " 'split3_test_score': array([0.88125   , 0.89270833, 0.74895833, 0.88333333, 0.89375   ,\n",
       "        0.76145833, 0.88333333, 0.89375   , 0.76354167, 0.88125   ,\n",
       "        0.89270833, 0.72604167]),\n",
       " 'split4_test_score': array([0.871875  , 0.875     , 0.74583333, 0.87395833, 0.875     ,\n",
       "        0.77395833, 0.87395833, 0.875     , 0.77604167, 0.875     ,\n",
       "        0.87395833, 0.728125  ]),\n",
       " 'mean_test_score': array([0.871875  , 0.88354167, 0.74      , 0.874375  , 0.88395833,\n",
       "        0.77479167, 0.874375  , 0.88395833, 0.77583333, 0.87458333,\n",
       "        0.88375   , 0.719375  ]),\n",
       " 'std_test_score': array([0.01917346, 0.014136  , 0.00967349, 0.01531781, 0.01451771,\n",
       "        0.01067187, 0.01531781, 0.01451771, 0.01017213, 0.01770956,\n",
       "        0.0144728 , 0.00926088]),\n",
       " 'rank_test_score': array([ 8,  4, 11,  6,  1, 10,  6,  1,  9,  5,  3, 12], dtype=int32)}"
      ]
     },
     "execution_count": 10,
     "metadata": {},
     "output_type": "execute_result"
    }
   ],
   "source": [
    "grid.cv_results_"
   ]
  },
  {
   "cell_type": "code",
   "execution_count": 15,
   "id": "f44b5e58",
   "metadata": {},
   "outputs": [
    {
     "name": "stdout",
     "output_type": "stream",
     "text": [
      "111 erreurs sur 1200 images soit une précision de 90.75 %\n"
     ]
    }
   ],
   "source": [
    "# on teste sur les données de.... test :)\n",
    "prediction = grid.predict(X_test_red)\n",
    "erreur= 0\n",
    "longueur= len(Y_test_red)\n",
    "for i in range(longueur):\n",
    "    if Y_test_red[i]!= prediction[i]: erreur+= 1\n",
    "print(f\"{erreur} erreurs sur {longueur} images soit une précision de {100*(1-erreur/longueur):.2f} %\")"
   ]
  },
  {
   "cell_type": "code",
   "execution_count": 18,
   "id": "6d24f890",
   "metadata": {},
   "outputs": [
    {
     "name": "stdout",
     "output_type": "stream",
     "text": [
      "\n",
      "                 precision    recall  f1-score   support\n",
      "\n",
      "détection de 0       0.95      0.98      0.96       126\n",
      "détection de 1       0.93      0.98      0.96       117\n",
      "détection de 2       0.95      0.83      0.89       137\n",
      "détection de 3       0.83      0.88      0.85       112\n",
      "détection de 4       0.93      0.91      0.92       123\n",
      "détection de 5       0.86      0.84      0.85       103\n",
      "détection de 6       0.97      0.96      0.97       135\n",
      "détection de 7       0.91      0.91      0.91       119\n",
      "détection de 8       0.83      0.87      0.85       110\n",
      "détection de 9       0.88      0.90      0.89       118\n",
      "\n",
      "      accuracy                           0.91      1200\n",
      "     macro avg       0.91      0.91      0.91      1200\n",
      "  weighted avg       0.91      0.91      0.91      1200\n",
      "\n"
     ]
    }
   ],
   "source": [
    "target_names= [\"détection de 0\", \"détection de 1\", \"détection de 2\", \"détection de 3\", \"détection de 4\",\n",
    "               \"détection de 5\", \"détection de 6\", \"détection de 7\", \"détection de 8\", \"détection de 9\"]\n",
    "print(\"\\n\",classification_report(Y_test_red,prediction, target_names= target_names)) "
   ]
  },
  {
   "cell_type": "code",
   "execution_count": null,
   "id": "c956fdc4",
   "metadata": {},
   "outputs": [],
   "source": []
  },
  {
   "cell_type": "markdown",
   "id": "93bf5ba2",
   "metadata": {},
   "source": [
    "## Validation curve"
   ]
  },
  {
   "cell_type": "code",
   "execution_count": 6,
   "id": "803def1e",
   "metadata": {},
   "outputs": [
    {
     "name": "stdout",
     "output_type": "stream",
     "text": [
      "Entrainement: X Shape: (24000, 784), Y shape: (24000,)\n",
      "Test: X Shape: (6000, 784), Y shape: (6000,)\n",
      "Etiquette: [0 1 2 3 4 5 6 7 8 9]\n"
     ]
    }
   ],
   "source": [
    "# On récupère les données. On ne prendra qu'une partie des données situé dans le\n",
    "#  jeux de train. On en profite pour \"applatir\" les images\n",
    "data= train_x.reshape(train_x.shape[0], train_x.shape[1]*train_x.shape[2])\n",
    "\n",
    "# On réduit le jeux de données original\n",
    "data_red, _, Y_red, _=  train_test_split(data, train_y, train_size=0.5, random_state= 65)\n",
    "\n",
    "# On split le jeux de données\n",
    "X_train_red, X_test_red,  Y_train_red, Y_test_red = train_test_split(data_red, Y_red, train_size=0.8, \n",
    "                                                               random_state= 65)\n",
    "\n",
    "print(f\"Entrainement: X Shape: {X_train_red.shape}, Y shape: {Y_train_red.shape}\\n\"+\\\n",
    "      f\"Test: X Shape: {X_test_red.shape}, Y shape: {Y_test_red.shape}\\n\"+\\\n",
    "      f\"Etiquette: {etiquette}\")"
   ]
  },
  {
   "cell_type": "code",
   "execution_count": null,
   "id": "853e7efa",
   "metadata": {},
   "outputs": [],
   "source": []
  },
  {
   "cell_type": "code",
   "execution_count": null,
   "id": "e8df60d5",
   "metadata": {},
   "outputs": [],
   "source": []
  },
  {
   "cell_type": "code",
   "execution_count": null,
   "id": "57c488a0",
   "metadata": {},
   "outputs": [],
   "source": []
  },
  {
   "cell_type": "code",
   "execution_count": 8,
   "id": "beaa5e97",
   "metadata": {},
   "outputs": [],
   "source": [
    "pipe_minmax_logreg= make_pipeline( MinMaxScaler(), \n",
    "                                  LogisticRegression(class_weight='balanced', max_iter=2000, solver='newton-cg'))"
   ]
  },
  {
   "cell_type": "code",
   "execution_count": 9,
   "id": "24096d0c",
   "metadata": {},
   "outputs": [
    {
     "data": {
      "text/plain": [
       "Pipeline(steps=[('minmaxscaler', MinMaxScaler()),\n",
       "                ('logisticregression',\n",
       "                 LogisticRegression(class_weight='balanced', max_iter=2000,\n",
       "                                    solver='newton-cg'))])"
      ]
     },
     "execution_count": 9,
     "metadata": {},
     "output_type": "execute_result"
    }
   ],
   "source": [
    "pipe_minmax_logreg.fit(X_train_red, Y_train_red)"
   ]
  },
  {
   "cell_type": "code",
   "execution_count": 10,
   "id": "47fe2acf",
   "metadata": {},
   "outputs": [
    {
     "data": {
      "text/plain": [
       "array([4, 6, 1, ..., 6, 9, 2], dtype=uint8)"
      ]
     },
     "execution_count": 10,
     "metadata": {},
     "output_type": "execute_result"
    }
   ],
   "source": []
  },
  {
   "cell_type": "code",
   "execution_count": 11,
   "id": "1b2ca52f",
   "metadata": {},
   "outputs": [
    {
     "name": "stdout",
     "output_type": "stream",
     "text": [
      "549 erreurs sur 6000 images soit une précision de 90.85 %\n"
     ]
    }
   ],
   "source": [
    "prediction = pipe_minmax_logreg.predict(X_test_red)\n",
    "erreur= 0\n",
    "longueur= len(Y_test_red)\n",
    "for i in range(longueur):\n",
    "    if Y_test_red[i]!= prediction[i]: erreur+= 1\n",
    "print(f\"{erreur} erreurs sur {longueur} images soit une précision de {100*(1-erreur/longueur):.2f} %\")"
   ]
  },
  {
   "cell_type": "code",
   "execution_count": null,
   "id": "95d81632",
   "metadata": {},
   "outputs": [],
   "source": []
  },
  {
   "cell_type": "code",
   "execution_count": null,
   "id": "3efdd05a",
   "metadata": {},
   "outputs": [],
   "source": []
  },
  {
   "cell_type": "code",
   "execution_count": 12,
   "id": "4e5e957b",
   "metadata": {},
   "outputs": [],
   "source": [
    "train_size, train_score, val_score= learning_curve(pipe_minmax_logreg, X_train_red, Y_train_red, \n",
    "                                          train_sizes= np.linspace(0.05,1,15), cv= 3)"
   ]
  },
  {
   "cell_type": "code",
   "execution_count": 13,
   "id": "90d5d9f1",
   "metadata": {},
   "outputs": [
    {
     "data": {
      "image/png": "[encoded data removed]",
      "text/plain": [
       "<Figure size 432x288 with 1 Axes>"
      ]
     },
     "metadata": {
      "needs_background": "light"
     },
     "output_type": "display_data"
    }
   ],
   "source": [
    "plt.plot(train_size, train_score.mean(axis=1), label= \"Jeu entrainement\")\n",
    "plt.plot(train_size, val_score.mean(axis=1), label= \"Jeu de test\")\n",
    "plt.xlabel(\"Taille du jeux d'entrainement\")\n",
    "plt.ylabel(\"Précision\")\n",
    "_= plt.legend()"
   ]
  },
  {
   "cell_type": "code",
   "execution_count": 33,
   "id": "a10a5d22",
   "metadata": {},
   "outputs": [],
   "source": []
  },
  {
   "cell_type": "code",
   "execution_count": 38,
   "id": "e7c6848c",
   "metadata": {},
   "outputs": [],
   "source": [
    "def erreur_prediction(valeurs_predites= None, valeurs_reelle= None):\n",
    "    \"\"\"\n",
    "    Vérifie que les valeurs prédites sont les mêmes que les valeurs réelles.\n",
    "    \n",
    "    paramètres en entrée:\n",
    "    valeurs_predites\n",
    "    valeurs_reelle\n",
    "    \n",
    "    Paramètres de sortie:\n",
    "    erreur: nombre d'erreur de prédiction\n",
    "    precision: 100*(1-erreur/(longueur des tableaux)\n",
    "    liste_erreur: Liste de toutes les erreurs détecté sous forme de dictionnaire \n",
    "        clé valeur réelle: valeur prédite\n",
    "    \"\"\"\n",
    "    \n",
    "    assert len(valeurs_predites) == len(valeurs_reelle), \"Erreur de dimension: la dimension des tableaux \"+\\\n",
    "        f\"doit être identique. {len(valeurs_predites)} # de {len(valeurs_reelle)}\"\n",
    "\n",
    "    erreur= 0\n",
    "    d= {}\n",
    "    longueur= len(valeurs_reelle)\n",
    "    for i in range(longueur):\n",
    "        if valeurs_reelle[i]!= valeurs_predites[i]:\n",
    "            if valeurs_reelle[i] not in d.keys():\n",
    "                d[valeurs_reelle[i]]= [valeurs_predites[i]]\n",
    "            else:\n",
    "                d[valeurs_reelle[i]].append(valeurs_predites[i])\n",
    "            erreur+= 1\n",
    "        \n",
    "    return erreur, 100*(1-erreur/longueur), d"
   ]
  },
  {
   "cell_type": "code",
   "execution_count": null,
   "id": "855be80f",
   "metadata": {},
   "outputs": [],
   "source": []
  },
  {
   "cell_type": "code",
   "execution_count": 36,
   "id": "34983845",
   "metadata": {},
   "outputs": [],
   "source": [
    "err, pre, d= erreur_prediction(valeurs_predites= [1,1,2,0,4,1], valeurs_reelle= [1,2,2,3,2,2])"
   ]
  },
  {
   "cell_type": "code",
   "execution_count": 37,
   "id": "9513ff67",
   "metadata": {},
   "outputs": [
    {
     "name": "stdout",
     "output_type": "stream",
     "text": [
      "4 erreurs. précision 33.33 % dictionnaire: {2: [1, 4, 1], 3: [0]}\n"
     ]
    }
   ],
   "source": [
    "print(f\"{err} erreurs. précision {pre:.2f} % dictionnaire: {d}\")"
   ]
  },
  {
   "cell_type": "code",
   "execution_count": null,
   "id": "50310904",
   "metadata": {},
   "outputs": [],
   "source": []
  },
  {
   "cell_type": "code",
   "execution_count": 165,
   "id": "216c050d",
   "metadata": {},
   "outputs": [
    {
     "name": "stdout",
     "output_type": "stream",
     "text": [
      "Entrainement: X Shape: (38400, 784), Y shape: (38400,)\n",
      "Test: X Shape: (9600, 784), Y shape: (9600,)\n",
      "Etiquette: [0 1 2 3 4 5 6 7 8 9]\n"
     ]
    }
   ],
   "source": [
    "# On récupère les données. On ne prendra qu'une partie des données situé dans le\n",
    "#  jeux de train. On en profite pour \"applatir\" les images\n",
    "data= train_x.reshape(train_x.shape[0], train_x.shape[1]*train_x.shape[2])\n",
    "\n",
    "# On réduit le jeux de données original\n",
    "data_red, _, Y_red, _=  train_test_split(data, train_y, train_size=0.8, random_state= 65)\n",
    "\n",
    "# On split le jeux de données\n",
    "X_train_red, X_test_red,  Y_train_red, Y_test_red = train_test_split(data_red, Y_red, train_size=0.8, \n",
    "                                                               random_state= 65)\n",
    "\n",
    "print(f\"Entrainement: X Shape: {X_train_red.shape}, Y shape: {Y_train_red.shape}\\n\"+\\\n",
    "      f\"Test: X Shape: {X_test_red.shape}, Y shape: {Y_test_red.shape}\\n\"+\\\n",
    "      f\"Etiquette: {etiquette}\")"
   ]
  },
  {
   "cell_type": "code",
   "execution_count": 152,
   "id": "8d249cdb",
   "metadata": {},
   "outputs": [],
   "source": [
    "from sklearn.linear_model import SGDClassifier\n",
    "\n",
    "from sklearn.neighbors import KNeighborsClassifier\n",
    "\n",
    "model_knn= make_pipeline(MinMaxScaler(),KNeighborsClassifier())\n",
    "# On testera 3 standardisations et pour la régression logistique on testera tout les solvers\n",
    "param_grid_algo = {'kneighborsclassifier__n_neighbors': [6],\n",
    "                   'kneighborsclassifier__weights': [\"distance\"],\n",
    "                   'kneighborsclassifier__algorithm': [\"ball_tree\"],\n",
    "                   #'kneighborsclassifier__leaf_size': [20],\n",
    "                    #'kneighborsclassifier__p': [5],\n",
    "             }\n",
    "\n",
    "# __sgdclassifier\n",
    "# __kneighborsregressor\n",
    "# LogisticRegression(max_iter= 1000)\n",
    "# max_iter= 1000, tol= 1e-3\n",
    "# n_neighbors= 7"
   ]
  },
  {
   "cell_type": "code",
   "execution_count": 166,
   "id": "1c0b291b",
   "metadata": {},
   "outputs": [
    {
     "data": {
      "text/plain": [
       "Pipeline(steps=[('minmaxscaler', MinMaxScaler()),\n",
       "                ('kneighborsclassifier', KNeighborsClassifier())])"
      ]
     },
     "execution_count": 166,
     "metadata": {},
     "output_type": "execute_result"
    }
   ],
   "source": [
    "model_knn"
   ]
  },
  {
   "cell_type": "code",
   "execution_count": 167,
   "id": "29c90982",
   "metadata": {},
   "outputs": [
    {
     "data": {
      "text/plain": [
       "GridSearchCV(cv=5,\n",
       "             estimator=Pipeline(steps=[('minmaxscaler', MinMaxScaler()),\n",
       "                                       ('kneighborsclassifier',\n",
       "                                        KNeighborsClassifier())]),\n",
       "             n_jobs=-1,\n",
       "             param_grid={'kneighborsclassifier__algorithm': ['ball_tree'],\n",
       "                         'kneighborsclassifier__n_neighbors': [6],\n",
       "                         'kneighborsclassifier__weights': ['distance']},\n",
       "             verbose=True)"
      ]
     },
     "execution_count": 167,
     "metadata": {},
     "output_type": "execute_result"
    }
   ],
   "source": [
    "\n",
    "# instantiate and run as before:\n",
    "\n",
    "#model_algo= make_pipeline(pipe_algo)\n",
    "\n",
    "grid_algo = GridSearchCV(model_knn, param_grid_algo, cv=5, verbose= True, n_jobs= -1)\n",
    "\n",
    "grid_algo"
   ]
  },
  {
   "cell_type": "code",
   "execution_count": 155,
   "id": "90bb0d4f",
   "metadata": {},
   "outputs": [
    {
     "data": {
      "text/plain": [
       "dict_keys(['cv', 'error_score', 'estimator__memory', 'estimator__steps', 'estimator__verbose', 'estimator__minmaxscaler', 'estimator__kneighborsclassifier', 'estimator__minmaxscaler__clip', 'estimator__minmaxscaler__copy', 'estimator__minmaxscaler__feature_range', 'estimator__kneighborsclassifier__algorithm', 'estimator__kneighborsclassifier__leaf_size', 'estimator__kneighborsclassifier__metric', 'estimator__kneighborsclassifier__metric_params', 'estimator__kneighborsclassifier__n_jobs', 'estimator__kneighborsclassifier__n_neighbors', 'estimator__kneighborsclassifier__p', 'estimator__kneighborsclassifier__weights', 'estimator', 'n_jobs', 'param_grid', 'pre_dispatch', 'refit', 'return_train_score', 'scoring', 'verbose'])"
      ]
     },
     "execution_count": 155,
     "metadata": {},
     "output_type": "execute_result"
    }
   ],
   "source": [
    "grid_algo.get_params().keys()"
   ]
  },
  {
   "cell_type": "code",
   "execution_count": 168,
   "id": "fc28f192",
   "metadata": {},
   "outputs": [
    {
     "name": "stdout",
     "output_type": "stream",
     "text": [
      "Fitting 5 folds for each of 1 candidates, totalling 5 fits\n",
      "temps d'exécution: 653.75 s\n"
     ]
    }
   ],
   "source": [
    "deb= time.time()\n",
    "\n",
    "grid_algo.fit(X_train_red, Y_train_red)\n",
    "\n",
    "fin= time.time()\n",
    "print(f\"temps d'exécution: {fin-deb:.2f} s\")"
   ]
  },
  {
   "cell_type": "code",
   "execution_count": 157,
   "id": "58292279",
   "metadata": {},
   "outputs": [
    {
     "data": {
      "text/plain": [
       "Pipeline(steps=[('minmaxscaler', MinMaxScaler()),\n",
       "                ('kneighborsclassifier',\n",
       "                 KNeighborsClassifier(algorithm='ball_tree', n_neighbors=6,\n",
       "                                      weights='distance'))])"
      ]
     },
     "execution_count": 157,
     "metadata": {},
     "output_type": "execute_result"
    }
   ],
   "source": [
    "grid_algo.best_estimator_"
   ]
  },
  {
   "cell_type": "code",
   "execution_count": 158,
   "id": "27fd13bc",
   "metadata": {},
   "outputs": [
    {
     "data": {
      "text/plain": [
       "0.9464583333333334"
      ]
     },
     "execution_count": 158,
     "metadata": {},
     "output_type": "execute_result"
    }
   ],
   "source": [
    "grid_algo.best_score_"
   ]
  },
  {
   "cell_type": "code",
   "execution_count": null,
   "id": "c1311fcc",
   "metadata": {},
   "outputs": [],
   "source": [
    "0.9491666666666665 3,25\n",
    "0.9497916666666667"
   ]
  },
  {
   "cell_type": "code",
   "execution_count": null,
   "id": "0686134c",
   "metadata": {},
   "outputs": [],
   "source": []
  },
  {
   "cell_type": "code",
   "execution_count": null,
   "id": "268ee935",
   "metadata": {},
   "outputs": [],
   "source": []
  },
  {
   "cell_type": "code",
   "execution_count": 164,
   "id": "a4aaf05c",
   "metadata": {},
   "outputs": [
    {
     "name": "stdout",
     "output_type": "stream",
     "text": [
      "120 erreurs sur 2400 images soit une précision de 95.00 %\n",
      "Dictionnaire des erreurs (clé valeur réelle: valeur prédite):\n",
      "{3: [7, 5, 8, 8, 2, 8, 2, 1, 4, 1, 5, 7, 9, 9], 7: [5, 1, 9, 4, 9, 9, 9, 9, 9, 9, 4, 1, 9, 9, 4, 4, 4, 1], 5: [3, 1, 0, 6, 6, 3, 2, 1, 3, 3, 0, 1, 7, 9, 3, 6, 6], 6: [5, 0, 0, 1, 0, 5, 0, 5], 9: [4, 7, 3, 3, 7, 4, 7, 3, 4, 7, 4], 8: [1, 1, 1, 5, 1, 3, 3, 2, 4, 4, 5, 5, 4, 5, 5, 9, 5, 5, 2, 1, 2, 1, 5], 2: [7, 8, 5, 1, 1, 7, 7, 7, 8, 1, 1, 6, 0, 0, 1, 5, 4, 0, 7], 4: [1, 1, 9, 1, 9], 0: [2, 2, 8, 6], 1: [7]}\n"
     ]
    }
   ],
   "source": [
    "prediction = model_knn.predict(X_test_red)\n",
    "\n",
    "err, pre, d= erreur_prediction(valeurs_predites= prediction, valeurs_reelle= Y_test_red)\n",
    "print(f\"{err} erreurs sur {len(Y_test_red)} images soit une précision de {pre:.2f} %\")\n",
    "print(f\"Dictionnaire des erreurs (clé valeur réelle: valeur prédite):\\n{d}\")"
   ]
  },
  {
   "cell_type": "code",
   "execution_count": null,
   "id": "86786da2",
   "metadata": {},
   "outputs": [],
   "source": []
  },
  {
   "cell_type": "code",
   "execution_count": null,
   "id": "d3c08800",
   "metadata": {},
   "outputs": [],
   "source": []
  },
  {
   "cell_type": "code",
   "execution_count": null,
   "id": "b7e3af60",
   "metadata": {},
   "outputs": [],
   "source": []
  },
  {
   "cell_type": "code",
   "execution_count": 148,
   "id": "15fa554a",
   "metadata": {},
   "outputs": [],
   "source": [
    "from sklearn.linear_model import SGDClassifier\n",
    "\n",
    "from sklearn.neighbors import KNeighborsClassifier\n",
    "\n",
    "model_sgd= make_pipeline(MinMaxScaler(),SGDClassifier())\n",
    "# On testera 3 standardisations et pour la régression logistique on testera tout les solvers\n",
    "param_grid_algo = {#'sgdclassifier__n_neighbors': [6],\n",
    "                   'sgdclassifier__class_weight': [\"balanced\", None],\n",
    "                   #'sgdclassifier__algorithm': [\"ball_tree\"],\n",
    "                   #'sgdclassifier__leaf_size': [20],\n",
    "                    #'sgdclassifier__p': [5],\n",
    "             }\n"
   ]
  },
  {
   "cell_type": "code",
   "execution_count": 149,
   "id": "987fce78",
   "metadata": {},
   "outputs": [
    {
     "data": {
      "text/plain": [
       "GridSearchCV(cv=5,\n",
       "             estimator=Pipeline(steps=[('minmaxscaler', MinMaxScaler()),\n",
       "                                       ('sgdclassifier', SGDClassifier())]),\n",
       "             n_jobs=-1,\n",
       "             param_grid={'sgdclassifier__class_weight': ['balanced', None]},\n",
       "             verbose=True)"
      ]
     },
     "execution_count": 149,
     "metadata": {},
     "output_type": "execute_result"
    }
   ],
   "source": [
    "\n",
    "grid_algo = GridSearchCV(model_sgd, param_grid_algo, cv=5, verbose= True, n_jobs= -1)\n",
    "\n",
    "grid_algo"
   ]
  },
  {
   "cell_type": "code",
   "execution_count": 150,
   "id": "cbdfc285",
   "metadata": {},
   "outputs": [
    {
     "name": "stdout",
     "output_type": "stream",
     "text": [
      "Fitting 5 folds for each of 2 candidates, totalling 10 fits\n",
      "temps d'exécution: 29.41 s\n"
     ]
    }
   ],
   "source": [
    "deb= time.time()\n",
    "\n",
    "grid_algo.fit(X_train_red, Y_train_red)\n",
    "\n",
    "fin= time.time()\n",
    "print(f\"temps d'exécution: {fin-deb:.2f} s\")"
   ]
  },
  {
   "cell_type": "code",
   "execution_count": 151,
   "id": "cc7c0e31",
   "metadata": {},
   "outputs": [
    {
     "data": {
      "text/plain": [
       "0.878125"
      ]
     },
     "execution_count": 151,
     "metadata": {},
     "output_type": "execute_result"
    }
   ],
   "source": [
    "grid_algo.best_score_"
   ]
  },
  {
   "cell_type": "code",
   "execution_count": null,
   "id": "0253a2a2",
   "metadata": {},
   "outputs": [],
   "source": []
  }
 ],
 "metadata": {
  "kernelspec": {
   "display_name": "Python 3 (ipykernel)",
   "language": "python",
   "name": "python3"
  },
  "language_info": {
   "codemirror_mode": {
    "name": "ipython",
    "version": 3
   },
   "file_extension": ".py",
   "mimetype": "text/x-python",
   "name": "python",
   "nbconvert_exporter": "python",
   "pygments_lexer": "ipython3",
   "version": "3.8.12"
  }
 },
 "nbformat": 4,
 "nbformat_minor": 5
}

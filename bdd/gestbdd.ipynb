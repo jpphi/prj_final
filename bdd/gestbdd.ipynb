{
 "cells": [
  {
   "cell_type": "markdown",
   "id": "00841cc8",
   "metadata": {},
   "source": [
    "# Création bdd mysql"
   ]
  },
  {
   "cell_type": "code",
   "execution_count": 10,
   "id": "70cbdd3a",
   "metadata": {},
   "outputs": [],
   "source": [
    "# Fichiers imports et fonctions\n",
    "\n",
    "import pymysql\n",
    "\n",
    "#import pandas as pd\n",
    "#import numpy as np\n",
    "\n",
    "#from math import nan\n",
    "\n",
    "\n",
    "def creer_bdd(adresseIP= \"127.0.0.1\", nom_utilisateur= \"jpphi\", mdp= \"jpphi\", nom_base= None,\n",
    "                jeuxcar= \"utf8mb4\",\n",
    "                typeCurseur= pymysql.cursors.DictCursor):\n",
    "    \"\"\"\n",
    "    crée une base de donnée.\n",
    "    entrée:\n",
    "        adresseIP= adresse du serveur MySQL\n",
    "        nom_utilisateur= Nom utilisateur\n",
    "        mdp= Mot de passe\n",
    "        nom_base= Nom de la base de donnée\n",
    "        jeuxcar= jeux de caractère utilisé\n",
    "        typeCurseur= Type de curseur\n",
    "    retourne:\n",
    "        code et message d'erreur\n",
    "        1: le nom de la base de donnée nom spécifié\n",
    "        2: exeption levé lors de création de la base\n",
    "        0: OK\n",
    "    \"\"\"\n",
    "    \n",
    "    if nom_base== None: return (1,\"Le nom de la base de donnée n'a pas été spécifié\")\n",
    "    \n",
    "\n",
    "    objConnexion= pymysql.connect(host= adresseIP, user= nom_utilisateur, password= mdp,\n",
    "                                  charset= jeuxcar, cursorclass= typeCurseur)\n",
    "    \n",
    "    try:\n",
    "        # Création d'un objet curseur\n",
    "        objetCurseur= objConnexion.cursor()                                    \n",
    "\n",
    "    \n",
    "        objetCurseur.execute(f\"CREATE DATABASE {nom_base}\")\n",
    "\n",
    "        # Commande SQL pour voir les bases existantes\n",
    "        requete_sql= \"SHOW DATABASES\"\n",
    "        objetCurseur.execute(requete_sql)\n",
    "\n",
    "        # Affichage de toutes les bases\n",
    "        bases= objetCurseur.fetchall()\n",
    "        for base in bases: print(base)\n",
    "            \n",
    "        \"\"\"\n",
    "        if dataframe is not None:\n",
    "            # On alimente la table avec le dataframe\n",
    "            for i,row in dataframe.iterrows():\n",
    "                objetCurseur.execute(requete_sql_remplissage,tuple(row))\n",
    "                objConnexion.commit()\n",
    "        \"\"\"\n",
    "        \n",
    "        code= (0,\"OK\")\n",
    "\n",
    "\n",
    "    except Exception as e:\n",
    "        code= (2, f\"Erreur:{format(e)}\")\n",
    "\n",
    "    finally:\n",
    "        objConnexion.close()\n",
    "        \n",
    "    return code\n",
    "\n"
   ]
  },
  {
   "cell_type": "code",
   "execution_count": 11,
   "id": "a9ada57e",
   "metadata": {
    "scrolled": true
   },
   "outputs": [
    {
     "name": "stdout",
     "output_type": "stream",
     "text": [
      "Nom de la base ?toto\n",
      "{'Database': 'ExoMerise1'}\n",
      "{'Database': 'NetFlix'}\n",
      "{'Database': 'Netflix_python'}\n",
      "{'Database': 'apple'}\n",
      "{'Database': 'cardata_brief1'}\n",
      "{'Database': 'information_schema'}\n",
      "{'Database': 'movies'}\n",
      "{'Database': 'mysql'}\n",
      "{'Database': 'netflix'}\n",
      "{'Database': 'performance_schema'}\n",
      "{'Database': 'pompompidou_python'}\n",
      "{'Database': 'toto'}\n"
     ]
    },
    {
     "data": {
      "text/plain": [
       "(0, 'OK')"
      ]
     },
     "execution_count": 11,
     "metadata": {},
     "output_type": "execute_result"
    }
   ],
   "source": [
    "nom_base= input(\"Nom de la base ?\")\n",
    "\n",
    "creer_bdd(adresseIP= \"127.0.0.1\", nom_utilisateur= \"jpphi\", mdp= \"jpphi\", nom_base= nom_base,\n",
    "                jeuxcar= \"utf8mb4\",\n",
    "                typeCurseur= pymysql.cursors.DictCursor)\n"
   ]
  },
  {
   "cell_type": "markdown",
   "id": "181b83ae",
   "metadata": {},
   "source": [
    "# Création bdd sql lite"
   ]
  },
  {
   "cell_type": "code",
   "execution_count": 4,
   "id": "1c714529",
   "metadata": {},
   "outputs": [],
   "source": [
    "import sqlite3\n",
    "con = sqlite3.connect('example.db')"
   ]
  },
  {
   "cell_type": "code",
   "execution_count": 5,
   "id": "b12ba838",
   "metadata": {},
   "outputs": [],
   "source": [
    "cur = con.cursor()"
   ]
  },
  {
   "cell_type": "code",
   "execution_count": 6,
   "id": "74a5241d",
   "metadata": {},
   "outputs": [
    {
     "ename": "OperationalError",
     "evalue": "table stocks already exists",
     "output_type": "error",
     "traceback": [
      "\u001b[0;31m---------------------------------------------------------------------------\u001b[0m",
      "\u001b[0;31mOperationalError\u001b[0m                          Traceback (most recent call last)",
      "\u001b[0;32m/tmp/ipykernel_10592/2034593473.py\u001b[0m in \u001b[0;36m<module>\u001b[0;34m\u001b[0m\n\u001b[1;32m      1\u001b[0m \u001b[0;31m# Create table\u001b[0m\u001b[0;34m\u001b[0m\u001b[0;34m\u001b[0m\u001b[0;34m\u001b[0m\u001b[0m\n\u001b[0;32m----> 2\u001b[0;31m cur.execute('''CREATE TABLE stocks\n\u001b[0m\u001b[1;32m      3\u001b[0m                (date text, trans text, symbol text, qty real, price real)''')\n\u001b[1;32m      4\u001b[0m \u001b[0;34m\u001b[0m\u001b[0m\n\u001b[1;32m      5\u001b[0m \u001b[0;31m# Insert a row of data\u001b[0m\u001b[0;34m\u001b[0m\u001b[0;34m\u001b[0m\u001b[0;34m\u001b[0m\u001b[0m\n",
      "\u001b[0;31mOperationalError\u001b[0m: table stocks already exists"
     ]
    }
   ],
   "source": [
    "\n",
    "# Create table\n",
    "cur.execute('''CREATE TABLE stocks\n",
    "               (date text, trans text, symbol text, qty real, price real)''')\n",
    "\n",
    "# Insert a row of data\n",
    "cur.execute(\"INSERT INTO stocks VALUES ('2006-01-05','BUY','RHAT',100,35.14)\")\n",
    "\n",
    "# Save (commit) the changes\n",
    "con.commit()\n",
    "\n",
    "# We can also close the connection if we are done with it.\n",
    "# Just be sure any changes have been committed or they will be lost.\n",
    "con.close()\n"
   ]
  },
  {
   "cell_type": "code",
   "execution_count": 14,
   "id": "669753b5",
   "metadata": {},
   "outputs": [
    {
     "name": "stdout",
     "output_type": "stream",
     "text": [
      "06824b047e03f39cfbbb454cd88bc6dd0b3823361100ac0e8f9d7da81cc378c6\n",
      "ffc0e15a46501409424c9192c0ecaf12ede74ed9dd37bc62b526395c9b18abb2\n"
     ]
    }
   ],
   "source": [
    "import hashlib\n",
    "\n",
    "user_in = \"jpphi\"\n",
    "Password = hashlib.sha256()\n",
    "Password.update(user_in.encode(\"utf-8\"))\n",
    "print(Password.hexdigest())\n",
    "\n",
    "dk = hashlib.pbkdf2_hmac('sha256', user_in.encode(\"utf-8\"), user_in.encode(\"utf-8\"), 2) #, b'salt', 100000\n",
    "\n",
    "print(dk.hex())"
   ]
  },
  {
   "cell_type": "markdown",
   "id": "2861258a",
   "metadata": {},
   "source": [
    "# Hashlib"
   ]
  },
  {
   "cell_type": "code",
   "execution_count": 54,
   "id": "30d8baed",
   "metadata": {},
   "outputs": [
    {
     "name": "stdout",
     "output_type": "stream",
     "text": [
      "b'toto'\n",
      "32\n",
      "31f7a65e315586ac198bd798b6629ce4903d0899476d5741a9f32e2e521b6a66\n",
      "b'1\\xf7\\xa6^1U\\x86\\xac\\x19\\x8b\\xd7\\x98\\xb6b\\x9c\\xe4\\x90=\\x08\\x99GmWA\\xa9\\xf3..R\\x1bjf'\n",
      "sha256\n"
     ]
    }
   ],
   "source": [
    "import hashlib\n",
    "\n",
    "mdp= \"toto\".encode(\"utf-8\") # Il faut encoder une chaine de caractère unicode avant le hashage\n",
    "\n",
    "#mdp2= b\"jpphi2\"\n",
    "\n",
    "print(mdp)\n",
    "\n",
    "m= hashlib.sha256(mdp)\n",
    "\n",
    "#hashlib.sha1(s.encode('utf-8'))\n",
    "\n",
    "#m.update(mdp)\n",
    "\n",
    "print(m.digest_size)\n",
    "\n",
    "print(m.hexdigest())\n",
    "print(m.digest())\n",
    "print(m.name)\n",
    "\n",
    "#29ed8bc39c99438f5d18e78b8e3769e1ad66f8f12e6a3b90fdb9f8d2339fa41a"
   ]
  },
  {
   "cell_type": "markdown",
   "id": "bd998e03",
   "metadata": {},
   "source": [
    "# Bout de codes"
   ]
  },
  {
   "cell_type": "code",
   "execution_count": 4,
   "id": "afc62fa8",
   "metadata": {},
   "outputs": [],
   "source": [
    "# Fichiers imports et fonctions\n",
    "\n",
    "import pymysql\n",
    "\n",
    "import pandas as pd\n",
    "import numpy as np\n",
    "\n",
    "from math import nan\n",
    "\n",
    "def longueur(tableau):\n",
    "    \"\"\"\n",
    "    int longueur(tab[]) retourne la taille de la plus longue chaine de caratère présente dans le \n",
    "        tableau passée en paramètre.\n",
    "    tab: tableau. Tableau de chaine de caractère\n",
    "    valeur retournée: long. Longueur de la plus longue chaine de caractères présente dans \"tableau\"\n",
    "    \"\"\"\n",
    "    long= 0\n",
    "    for c in tableau:\n",
    "        c=str(c)\n",
    "        if len(c)> long:\n",
    "            long= len(c)\n",
    "    return long\n",
    "\n",
    "def creer_table(adresseIP= \"127.0.0.1\", nom_utilisateur= \"jpphi\", mdp= \"jpphi\", nom_base= None,\n",
    "                jeuxcar= \"utf8mb4\",\n",
    "                typeCurseur= pymysql.cursors.DictCursor,\n",
    "                requete_sql_creation= None,\n",
    "                dataframe= None,\n",
    "               requete_sql_remplissage = None):\n",
    "    \"\"\"\n",
    "    crée une table dans une base de donnée existante.\n",
    "    entrée:\n",
    "        adresseIP= adresse du serveur MySQL\n",
    "        nom_utilisateur= Nom utilisateur\n",
    "        mdp= Mot de passe\n",
    "        nom_base= Nom de la base de donnée\n",
    "        jeuxcar= jeux de caractère utilisé\n",
    "        typeCurseur= Type de curseur\n",
    "        requete_sql_creation= Commande SQL de création de table\n",
    "        dataframe= dataframe pour remplir la table\n",
    "        requete_sql_remplissage= Commande sql pour remplir la table à partir du dataframe\n",
    "    retourne:\n",
    "        code et message d'erreur\n",
    "        1: base de donnée nom spécifié\n",
    "        2: exeption levé lors de création ou du remplissage de la table\n",
    "        0: OK\n",
    "    \"\"\"\n",
    "    \n",
    "    if nom_base== None: return (1,\"On ne peut ouvrir la base 'None'\")\n",
    "    \n",
    "    objConnexion= pymysql.connect(host= adresseIP, user= nom_utilisateur, password= mdp,\n",
    "                                     db= nom_base, charset= jeuxcar, cursorclass= typeCurseur)\n",
    "\n",
    "    try:\n",
    "        # Création d'un objet curseur\n",
    "        objetCurseur= objConnexion.cursor()                                    \n",
    "\n",
    "    \n",
    "        objetCurseur.execute(requete_sql_creation)\n",
    "\n",
    "        # Commande SQL pour voir les tables existantes\n",
    "        requete_sql= \"SHOW TABLES\"\n",
    "        objetCurseur.execute(requete_sql)\n",
    "\n",
    "        # Affichage des tables\n",
    "        rows= objetCurseur.fetchall()\n",
    "        for row in rows: print(row)\n",
    "    \n",
    "        if dataframe is not None:\n",
    "            # On alimente la table avec le dataframe\n",
    "            for i,row in dataframe.iterrows():\n",
    "                objetCurseur.execute(requete_sql_remplissage,tuple(row))\n",
    "                objConnexion.commit()\n",
    "        code= (0,\"OK\")\n",
    "\n",
    "\n",
    "    except Exception as e:\n",
    "        code= (2, f\"Erreur:{format(e)}\")\n",
    "\n",
    "    finally:\n",
    "        objConnexion.close()\n",
    "        \n",
    "    return code\n",
    "\n",
    "def requete_table(adresseIP= \"127.0.0.1\", nom_utilisateur= \"jpphi\", mdp= \"jpphi\", nom_base= None, jeuxcar= \"utf8mb4\",\n",
    "                  typeCurseur= pymysql.cursors.DictCursor, requete_sql= None):\n",
    "    \"\"\"\n",
    "    Requete une une base de donnée existante.\n",
    "    entrée:\n",
    "        adresseIP= adresse du serveur MySQL\n",
    "        nom_utilisateur= Nom utilisateur\n",
    "        mdp= Mot de passe\n",
    "        nom_base= Nom de la base de donnée\n",
    "        jeuxcar= jeux de caractère utilisé\n",
    "        typeCurseur= Type de curseur\n",
    "        requete_sql= Commande SQL\n",
    "    retourne:\n",
    "        code et message d'erreur\n",
    "        1: base de donnée nom spécifié\n",
    "        2: exeption levé lors de la requete\n",
    "        0: OK\n",
    "        reponse à la requete envoyé\n",
    "    \"\"\"\n",
    "    \n",
    "    reponse= None\n",
    "    if nom_base== None: return ((1,\"On ne peut ouvrir la base 'None'\"), reponse)\n",
    "    \n",
    "    try:\n",
    "        # Connexion à la base\n",
    "        objConnexion= pymysql.connect(host= adresseIP, user= nom_utilisateur, password= mdp,\n",
    "                                     db= nom_base, charset= jeuxcar, cursorclass= typeCurseur)\n",
    "\n",
    "        # Création d'un objet curseur\n",
    "        objetCurseur= objConnexion.cursor() \n",
    "        \n",
    "        # Envoie de la requete\n",
    "        objetCurseur.execute(requete_sql)\n",
    "\n",
    "        # reponse à la requete\n",
    "        reponse= objetCurseur.fetchall()\n",
    "   \n",
    "        code= (0,\"OK\")\n",
    "\n",
    "    except Exception as e:\n",
    "        code= (2, f\"Erreur:{format(e)}\")\n",
    "\n",
    "    finally:\n",
    "        objConnexion.close()\n",
    "        \n",
    "    return code,reponse\n",
    "\n"
   ]
  },
  {
   "cell_type": "code",
   "execution_count": null,
   "id": "c37e5460",
   "metadata": {},
   "outputs": [],
   "source": [
    "nom_table= input(\"Nom de la table?\")\n",
    "requete_sql_creation= f\"CREATE TABLE IF NOT EXISTS {nom_table}(\"\\\n",
    "                            \"id_utilisateur INT PRIMARY KEY NOT NULL AUTO_INCREMENT, \"+\\\n",
    "                            \"nom  VARCHAR(50), \"+\\\n",
    "                            \"prenom VARCHAR(50), \"+\\\n",
    "                            \"mdp VARCHAR(300))\"\n",
    "\n",
    "requete_sql_remplissage = f\"INSERT INTO {nom_table} (id_utilisateur,nom,prenom,mdp) VALUES \"\\\n",
    "                            \"(%s,%s,%s,%s)\"\n",
    "\n",
    "creer_table(adresseIP= \"127.0.0.1\", nom_utilisateur= \"jpphi\", mdp= \"jpphi\", nom_base= \"Netflix_python\", jeuxcar= \"utf8\",\n",
    "            typeCurseur= pymysql.cursors.DictCursor, requete_sql_creation= requete_sql_creation, dataframe= dft,\n",
    "            requete_sql_remplissage = requete_sql_remplissage)\n"
   ]
  }
 ],
 "metadata": {
  "kernelspec": {
   "display_name": "Python 3 (ipykernel)",
   "language": "python",
   "name": "python3"
  },
  "language_info": {
   "codemirror_mode": {
    "name": "ipython",
    "version": 3
   },
   "file_extension": ".py",
   "mimetype": "text/x-python",
   "name": "python",
   "nbconvert_exporter": "python",
   "pygments_lexer": "ipython3",
   "version": "3.8.12"
  }
 },
 "nbformat": 4,
 "nbformat_minor": 5
}
